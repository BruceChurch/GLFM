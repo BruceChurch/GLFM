{
 "cells": [
  {
   "cell_type": "markdown",
   "metadata": {},
   "source": [
    "# Introduction to the General Latent Feature Model (GLFM)\n",
    "# DEMO_DATA_EXPLORATION"
   ]
  },
  {
   "cell_type": "code",
   "execution_count": 1,
   "metadata": {
    "collapsed": false
   },
   "outputs": [],
   "source": [
    "import numpy as np # import numpy matrix for calculus with matrices\n",
    "import time        # import time to be able to measure iteration speed\n",
    "import sys\n",
    "sys.path.append('../../src/GLFMpython/')\n",
    "import GLFM        # import General Latent Feature Model Library\n",
    "import matplotlib.pyplot as plt # import plotting library\n",
    "\n",
    "# import libraries for I/O of data\n",
    "import scipy.io\n",
    "import csv\n",
    "\n",
    "from aux import preprocess\n",
    "from aux import plot_dim\n",
    "from aux import plot_dim_1feat"
   ]
  },
  {
   "cell_type": "code",
   "execution_count": 2,
   "metadata": {
    "collapsed": false
   },
   "outputs": [
    {
     "name": "stdout",
     "output_type": "stream",
     "text": [
      "\n",
      " 1. LOAD DATABASE TO EXPLORE\n",
      "\n"
     ]
    }
   ],
   "source": [
    "# ---------------------------------------------\n",
    "# 1. LOAD DATA TO BE EXPLORED\n",
    "# ---------------------------------------------\n",
    "print '\\n 1. LOAD DATABASE TO EXPLORE\\n'\n",
    "# Fields inside structure\n",
    "#       xlabel: [502x1 double]\n",
    "#            X: [502x16 double]\n",
    "#            C: 'cpncnnccnncpnnpc'\n",
    "#   cat_labels: {[]  []  []  {10x1 cell}  []  [] {4x1 cell}  ... []}\n",
    "#       ylabel: {'stage'  'rx'  'dtime' 'status'  'age'  'wt'  'pf'... 'bm'}\n",
    "#  ylabel_long: {1x16 cell}\n",
    "input_file = '../../datasets/mat/prostate.mat'\n",
    "tmp = scipy.io.loadmat(input_file)\n",
    "data = tmp['data'][0,0] # data is a dictionary with the following keys\n",
    "(N,D) = data['X'].shape\n",
    "X = data['X'].transpose() #  ndarray of dimensions D * N\n",
    "C = str(data['C'][0])\n",
    "# dealing with missing data: replace np.nan by -1\n",
    "(xx,yy) = np.where(np.isnan(X)) # find positions where X is nan (i.e. missing data)\n",
    "for r in xrange(len(xx)):\n",
    "    X[xx[r],yy[r]] = -1\n",
    "\n",
    "# prepare input data for C++ inference routine # TODO: hide from user\n",
    "X = preprocess(X,C)\n"
   ]
  },
  {
   "cell_type": "code",
   "execution_count": 3,
   "metadata": {
    "collapsed": false
   },
   "outputs": [
    {
     "name": "stdout",
     "output_type": "stream",
     "text": [
      "\n",
      " 2. INITIALIZATION\n",
      "\n",
      "\tInitializing Z...\n",
      "\tInitialization of variables needed for the GLFM model...\n"
     ]
    }
   ],
   "source": [
    "# ---------------------------------------------\n",
    "# 2. INITIALIZATION FOR GLFM ALGORITHM\n",
    "# ---------------------------------------------\n",
    "print '\\n 2. INITIALIZATION\\n'\n",
    "\n",
    "print '\\tInitializing Z...'\n",
    "Kinit = 1   # initial number of latent features\n",
    "prob = 0.2  # probability of feature activation in matrix Z\n",
    "Z = np.ascontiguousarray( ((np.random.rand(Kinit,N) < prob) * 1.0).astype('float64') )\n",
    "bias = 0\n",
    "# with bias\n",
    "#Z = np.concatenate((np.ones((N,1)),(np.random.rand(N,Kest-1) < 0.2)*1.0),axis=1)\n",
    "#bias = 1\n",
    "\n",
    "print '\\tInitialization of variables needed for the GLFM model...'\n",
    "Niter = 100  # number of algorithm iterations\n",
    "s2y = 0.5    # noise variance for pseudo-obervations\n",
    "s2B = 1      # noise variance for feature values\n",
    "s2u = 0.1    # auxiliary noise\n",
    "alpha = 1    # mass parameter for the Indian Buffet Process\n"
   ]
  },
  {
   "cell_type": "code",
   "execution_count": 4,
   "metadata": {
    "collapsed": false
   },
   "outputs": [
    {
     "name": "stdout",
     "output_type": "stream",
     "text": [
      "\n",
      " 3. INFERENCE\n",
      "\n",
      "\tInfering latent features...\n",
      "\n",
      "Entering C function...\n",
      "Back to Python OK\n",
      "B_out[D,Kest,maxR] where D=16, Kest=13, maxR=10\n",
      "\tElapsed: 8.20 seconds.\n"
     ]
    }
   ],
   "source": [
    "# ---------------------------------------------\n",
    "# 3. RUN INFERENCE FOR GLFM ALGORITHM\n",
    "# ---------------------------------------------\n",
    "print '\\n 3. INFERENCE\\n'\n",
    "\n",
    "print '\\tInfering latent features...'\n",
    "tic = time.time()\n",
    "(Z_out,B_out,Theta_out) = GLFM.infer(X,C,Z,Nsim=Niter,s2Y=s2y, s2B=s2B, maxK=D, bias=bias)\n",
    "toc = time.time()\n",
    "time = tic - toc\n",
    "print '\\tElapsed: %.2f seconds.' % (toc-tic)\n",
    "\n"
   ]
  },
  {
   "cell_type": "code",
   "execution_count": 5,
   "metadata": {
    "collapsed": false
   },
   "outputs": [
    {
     "name": "stdout",
     "output_type": "stream",
     "text": [
      "\n",
      " 4. PROCESSING RESULTS\n",
      "\n",
      "\n",
      "\n",
      "# -------------------\n",
      "# SUCCESSFUL\n",
      "# -------------------\n"
     ]
    },
    {
     "name": "stderr",
     "output_type": "stream",
     "text": [
      "/home/melanie/anaconda/lib/python2.7/site-packages/matplotlib/axes/_axes.py:475: UserWarning: No labelled objects found. Use label='...' kwarg on individual plots.\n",
      "  warnings.warn(\"No labelled objects found. \"\n",
      "/home/melanie/anaconda/lib/python2.7/site-packages/matplotlib/backend_bases.py:2399: MatplotlibDeprecationWarning: Using default event loop until function specific to this GUI is implemented\n",
      "  warnings.warn(str, mplDeprecation)\n"
     ]
    }
   ],
   "source": [
    "# ---------------------------------------------\n",
    "# 4. PROCESS RESULTS\n",
    "# ---------------------------------------------\n",
    "print '\\n 4. PROCESSING RESULTS\\n'\n",
    "\n",
    "Kest = B_out.shape[1] # number of inferred latent features\n",
    "D = B_out.shape[0]    # number of dimensions\n",
    "\n",
    "d = 3\n",
    "ylab = str(data['ylabel_long'][0][d].tolist()[0]) # label for dimension d\n",
    "V = np.squeeze(data['cat_labels'][0][d]) # labels for categories (empty if not categorical)\n",
    "catlab = tuple( map(lambda x: str(x.tolist()[0]),V) ) # transform list of categories into tuple\n",
    "Zp = np.zeros((3,Kest)) # dimensions (numPatterns,Kest)\n",
    "Zp[0,0] = 1.0\n",
    "Zp[1,1] = 1.0\n",
    "Zp[2,2] = 1.0\n",
    "plot_dim(X, B_out, Theta_out, C,d,Zp,s2y,s2u,\\\n",
    "    xlabel=ylab, catlabel=catlab) # function to plot patterns corresponding to Zp\n",
    "\n",
    "#k = 0\n",
    "#ylab = str(data['ylabel_long'][0][d].tolist()[0])\n",
    "#V = np.squeeze(data['cat_labels'][0][d])\n",
    "#catlab = tuple( map(lambda x: str(x.tolist()[0]),V) )\n",
    "#plot_dim_1feat(X, B_out, Theta_out, C,d,k,s2y,s2u,\\\n",
    "#        xlabel=ylab, catlabel=catlab)\n",
    "#\n",
    "#k = 1\n",
    "#ylab = str(data['ylabel_long'][0][d].tolist()[0])\n",
    "#V = np.squeeze(data['cat_labels'][0][d])\n",
    "#catlab = tuple( map(lambda x: str(x.tolist()[0]),V) )\n",
    "#plot_dim_1feat(X, B_out, Theta_out, C,d,k,s2y,s2u,\\\n",
    "#        xlabel=ylab, catlabel=catlab)\n",
    "\n",
    "print('\\n\\n# -------------------')\n",
    "print \"# SUCCESSFUL\"\n",
    "print('# -------------------')"
   ]
  }
 ],
 "metadata": {
  "anaconda-cloud": {},
  "kernelspec": {
   "display_name": "Python 2",
   "language": "python",
   "name": "python2"
  },
  "language_info": {
   "codemirror_mode": {
    "name": "ipython",
    "version": 2
   },
   "file_extension": ".py",
   "mimetype": "text/x-python",
   "name": "python",
   "nbconvert_exporter": "python",
   "pygments_lexer": "ipython2",
   "version": "2.7.13"
  }
 },
 "nbformat": 4,
 "nbformat_minor": 1
}
