{
 "cells": [
  {
   "cell_type": "markdown",
   "metadata": {
    "collapsed": true
   },
   "source": [
    "# Introduction to the Indian Buffet Process\n",
    "# DEMO_MATRIX_COMPLETION"
   ]
  },
  {
   "cell_type": "code",
   "execution_count": 1,
   "metadata": {
    "collapsed": true
   },
   "outputs": [],
   "source": [
    "## import necessary packages\n",
    "import numpy as np # library to work with numpy arrays and math operations\n",
    "from random import sample\n",
    "import sys\n",
    "import GLFM\n",
    "import csv\n",
    "import matplotlib.pyplot as plt"
   ]
  },
  {
   "cell_type": "code",
   "execution_count": 2,
   "metadata": {
    "collapsed": false
   },
   "outputs": [
    {
     "name": "stdout",
     "output_type": "stream",
     "text": [
      "Loading data...\n"
     ]
    }
   ],
   "source": [
    "# ---------------------------------------------\n",
    "# 1. LOAD DATA\n",
    "# ---------------------------------------------\n",
    "print 'Loading data...'\n",
    "# DB can be downloaded here: http://pjreddie.com/projects/mnist-in-csv/\n",
    "file = '../databases/mnist_train_small_100.csv'\n",
    "N = 100\n",
    "images = []\n",
    "with open(file, 'r') as csv_file:\n",
    "    count = 0\n",
    "    for data in csv.reader(csv_file):\n",
    "        count = count + 1\n",
    "        # The first column is the label\n",
    "        label = data[0]\n",
    "\n",
    "        # The rest of columns are pixels\n",
    "        pixels = np.array(data[1:], dtype='float64')\n",
    "        images.append(pixels)\n",
    "\n",
    "        # Make those columns into a array of 8-bits pixels\n",
    "        # This array will be of 1D with length 784\n",
    "        # The pixel intensity values are integers from 0 to 255\n",
    "        pixels = np.array(pixels, dtype='uint8')\n",
    "\n",
    "        if count > N: # Taking only 1000 images\n",
    "            break\n",
    "\n",
    "X = np.array(images).transpose() # D*N\n",
    "\n",
    "Xtrue = X[:,sample(xrange(X.shape[1]),N)] + 1.0 # add one, since 'n' type cannot start in zero\n",
    "C = np.tile('n',(1,Xtrue.shape[0]))[0].tostring()\n"
   ]
  },
  {
   "cell_type": "code",
   "execution_count": 3,
   "metadata": {
    "collapsed": false
   },
   "outputs": [
    {
     "name": "stdout",
     "output_type": "stream",
     "text": [
      "Add missing values...\n"
     ]
    }
   ],
   "source": [
    "# ---------------------------------------------\n",
    "# 2. ADDING MISSING VALUES\n",
    "# ---------------------------------------------\n",
    "print 'Add missing values...'\n",
    "\n",
    "perc_missing = 0.4 #percentage of missing\n",
    "missing_val = -100\n",
    "mask_missing = np.random.rand(Xtrue.shape[0],Xtrue.shape[1]) < perc_missing\n",
    "Xmiss = np.copy(Xtrue)\n",
    "Xmiss[mask_missing] = missing_val\n"
   ]
  },
  {
   "cell_type": "code",
   "execution_count": 4,
   "metadata": {
    "collapsed": false
   },
   "outputs": [
    {
     "name": "stdout",
     "output_type": "stream",
     "text": [
      "Complete matrix...\n",
      "\n",
      "Entering C function...\n",
      "Back to Python OK\n",
      "B_out[D,Kest,maxR] where D=784, Kest=48, maxR=1\n"
     ]
    }
   ],
   "source": [
    "# ---------------------------------------------\n",
    "# 4. RUN ALGORITHM\n",
    "# ---------------------------------------------\n",
    "print 'Complete matrix...'\n",
    "Kinit = 20\n",
    "Z = np.ascontiguousarray( np.random.randint(0,2,size=(Kinit,N)).astype('float64') )\n",
    "Xmiss = np.ascontiguousarray(Xmiss)\n",
    "\n",
    "#(Z_out,B_out,Theta_out) = GLFM.infer(Xmiss,C,Z)\n",
    "Xcompl = GLFM.complete_matrix(Xmiss, C, Niter=100, missing=missing_val) #, bias=0, s2Y=1, s2B=1, alpha=1, Niter=50, missing=-1)\n"
   ]
  },
  {
   "cell_type": "code",
   "execution_count": 5,
   "metadata": {
    "collapsed": false
   },
   "outputs": [
    {
     "name": "stdout",
     "output_type": "stream",
     "text": [
      "Visualizing ground truth example\n",
      "Visualizing a single example with missing...\n",
      "Visualizing a single example without missing...\n"
     ]
    },
    {
     "data": {
      "image/png": "[encoded data removed]",
      "text/plain": [
       "<matplotlib.figure.Figure at 0x10aa4ee10>"
      ]
     },
     "metadata": {},
     "output_type": "display_data"
    }
   ],
   "source": [
    "# ---------------------------------------------\n",
    "# 3. VISUALIZATION OF A RANDOM IMAGE\n",
    "# ---------------------------------------------\n",
    "print 'Visualizing ground truth example'\n",
    "f, ((ax1, ax2, ax3)) = plt.subplots(1, 3, sharex='col', sharey='row')\n",
    "V = [ax1, ax2, ax3]\n",
    "# Reshape the array into 28 x 28 array (2-dimensional array)\n",
    "idx_ran = np.random.randint(0,Xmiss.shape[1])\n",
    "\n",
    "pixels = Xtrue[:,idx_ran]\n",
    "pixels = np.array(pixels, dtype='uint8')\n",
    "pixels = pixels.reshape((28, 28))\n",
    "# Plot\n",
    "V[0].imshow(pixels, cmap='gray',interpolation='none')\n",
    "\n",
    "print 'Visualizing a single example with missing...'\n",
    "pixels = Xmiss[:,idx_ran]\n",
    "pixels = np.array(pixels, dtype='uint8')\n",
    "pixels = pixels.reshape((28, 28))\n",
    "V[1].imshow(pixels, cmap='gray',interpolation='none')\n",
    "\n",
    "print 'Visualizing a single example without missing...'\n",
    "pixels = Xcompl[:,idx_ran]\n",
    "pixels = np.array(pixels, dtype='uint8')\n",
    "pixels = pixels.reshape((28, 28))\n",
    "# Plot\n",
    "V[2].imshow(pixels, cmap='gray',interpolation='none')\n",
    "plt.ion() # interactive mode for plotting (script continues)\n",
    "plt.show()\n"
   ]
  }
 ],
 "metadata": {
  "anaconda-cloud": {},
  "kernelspec": {
   "display_name": "Python [default]",
   "language": "python",
   "name": "python2"
  },
  "language_info": {
   "codemirror_mode": {
    "name": "ipython",
    "version": 2
   },
   "file_extension": ".py",
   "mimetype": "text/x-python",
   "name": "python",
   "nbconvert_exporter": "python",
   "pygments_lexer": "ipython2",
   "version": "2.7.12"
  }
 },
 "nbformat": 4,
 "nbformat_minor": 1
}
