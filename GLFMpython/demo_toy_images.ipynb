{
 "cells": [
  {
   "cell_type": "markdown",
   "metadata": {},
   "source": [
    "# Introduction to the Indian Buffet Process\n",
    "# DEMO_TOY_IMAGES"
   ]
  },
  {
   "cell_type": "markdown",
   "metadata": {},
   "source": [
    "Let us first import all the necessary libraries."
   ]
  },
  {
   "cell_type": "code",
   "execution_count": 4,
   "metadata": {
    "collapsed": false
   },
   "outputs": [],
   "source": [
    "import numpy as np # import numpy matrix for calculus with matrices\n",
    "import matplotlib.pyplot as plt # import plotting library\n",
    "import time        # import time to be able to measure iteration speed\n",
    "import sys\n",
    "import GLFM"
   ]
  },
  {
   "cell_type": "code",
   "execution_count": 5,
   "metadata": {
    "collapsed": false
   },
   "outputs": [
    {
     "name": "stdout",
     "output_type": "stream",
     "text": [
      "\n",
      " 1. GENERATIVE MODEL\n",
      "\n",
      "\tGenerating feature images (components)...\n",
      "\tPlotting feature images (Btrue)...\n"
     ]
    },
    {
     "data": {
      "image/png": "[encoded data removed]",
      "text/plain": [
       "<matplotlib.figure.Figure at 0x10a789510>"
      ]
     },
     "metadata": {},
     "output_type": "display_data"
    },
    {
     "name": "stdout",
     "output_type": "stream",
     "text": [
      "\tSetting model parameters (ground truth) and generate database...\n",
      "\tGenerating data with N=1000 and noise variance s2x=1.00\n"
     ]
    }
   ],
   "source": [
    "# ---------------------------------------------\n",
    "# 1. GENERATIVE MODEL\n",
    "# ---------------------------------------------\n",
    "print '\\n 1. GENERATIVE MODEL\\n'\n",
    "\n",
    "print '\\tGenerating feature images (components)...'\n",
    "# Btrue contains the features images or components in order to generate the\n",
    "# whole set of images\n",
    "Btrue = np.array([[0,1.0,0,0,0,0,  1,1,1,0,0,0, 0,1,0,0,0,0, \\\n",
    "        0,0,0,0,0,0, 0,0,0,0,0,0, 0,0,0,0,0,0], \\\n",
    "        [0,0.0,0,1,1,1,  0,0,0,1,0,1, 0,0,0,1,1,1, \\\n",
    "        0,0,0,0,0,0, 0,0,0,0,0,0, 0,0,0,0,0,0], \\\n",
    "        [0,0,0,0,0,0, 0,0,0,0,0,0, 0,0,0,0,0,0, \\\n",
    "        1,0,0,0,0,0, 1,1,0,0,0,0, 1,1,1,0,0,0], \\\n",
    "        [0,0,0,0,0,0, 0,0,0,0,0,0, 0,0,0,0,0,0, \\\n",
    "        0,0,0,1,1,1, 0,0,0,0,1,0, 0,0,0,0,1,0]])\n",
    "D = Btrue.shape[1] # number of dimensions\n",
    "K = Btrue.shape[0] # number of binary images\n",
    "\n",
    "print '\\tPlotting feature images (Btrue)...'\n",
    "f, ((ax1, ax2), (ax3, ax4)) = plt.subplots(2, 2, sharex='col', sharey='row')\n",
    "V = [ax1, ax2, ax3, ax4] # subfigures handlers\n",
    "for i in xrange(len(Btrue)):\n",
    "    pixels = Btrue[i].reshape(int(np.sqrt(Btrue.shape[1])),int(np.sqrt(Btrue.shape[1])))\n",
    "    # Plot each feature component k\n",
    "    V[i].imshow(pixels, cmap='gray',interpolation='nearest')\n",
    "    V[i].set_ylim(0,5) # set Y-axis limits\n",
    "    V[i].set_xlim(0,5) # set X-axis limits\n",
    "    V[i].set_title('Image %d' % (i+1)) # set subplot title\n",
    "plt.ion()  # turn on interactive mode for plotting (so that the script continues)\n",
    "plt.show() # display images component\n",
    "\n",
    "print '\\tSetting model parameters (ground truth) and generate database...'\n",
    "N = 1000           # number of images to be generated\n",
    "s2x = 1            # noise variance for the observations\n",
    "\n",
    "print '\\tGenerating data with N=%d and noise variance s2x=%.2f' % (N,s2x)\n",
    "# generate matrix Z\n",
    "Ztrue = np.ascontiguousarray( np.random.randint(0,2,size=(K,N)).astype('float64') )\n",
    "# Next line generates the toy database\n",
    "X = np.sqrt(s2x) * np.random.randn(D,N) + np.inner(Btrue.transpose(),Ztrue.transpose())\n",
    "X = np.ascontiguousarray(X) # specify way to store matrix to be compatible with C code\n",
    "#X = X - 0.5 # center data\n",
    "\n"
   ]
  },
  {
   "cell_type": "code",
   "execution_count": 6,
   "metadata": {
    "collapsed": false
   },
   "outputs": [
    {
     "name": "stdout",
     "output_type": "stream",
     "text": [
      "\n",
      " 2. INITIALIZATION\n",
      "\n",
      "\tInitializing Z...\n",
      "\tInitialization of variables needed for the GLFM model...\n"
     ]
    }
   ],
   "source": [
    "# ---------------------------------------------\n",
    "# 2. INITIALIZATION FOR GLFM ALGORITHM\n",
    "# ---------------------------------------------\n",
    "\n",
    "print '\\n 2. INITIALIZATION\\n'\n",
    "\n",
    "print '\\tInitializing Z...'\n",
    "Kinit = 1 # initial number of latent features\n",
    "Z = np.ascontiguousarray( np.random.randint(0,2,size=(Kinit,N)).astype('float64') )\n",
    "\n",
    "print '\\tInitialization of variables needed for the GLFM model...'\n",
    "C = np.tile('g',(1,X.shape[0]))[0].tostring() # vector to indicate datatype of each dimension\n",
    "# Generate weights for transformation\n",
    "W = np.ascontiguousarray( 2.0 / np.max(X,1) )\n",
    "\n",
    "Niter = 1000  # number of algorithm iterations\n",
    "s2y = 1      # noise variance for pseudo-obervations\n",
    "s2B = 1      # noise variance for feature values\n",
    "\n"
   ]
  },
  {
   "cell_type": "code",
   "execution_count": 7,
   "metadata": {
    "collapsed": false
   },
   "outputs": [
    {
     "name": "stdout",
     "output_type": "stream",
     "text": [
      "\tInfering latent features...\n",
      "\n",
      "Entering C function...\n",
      "Back to Python OK\n",
      "B_out[D,Kest,maxR] where D=36, Kest=4, maxR=1\n"
     ]
    }
   ],
   "source": [
    "# ---------------------------------------------\n",
    "# 3. RUN INFERENCE FOR GLFM ALGORITHM\n",
    "# ---------------------------------------------\n",
    "print '\\tInfering latent features...'\n",
    "#tic = time.time()\n",
    "(Z_out,B_out,Theta_out) = GLFM.infer(X,C,Z,W,Nsim=Niter,s2Y=s2y, s2B=s2B,\n",
    "        s2u=0.005, maxK=10)\n",
    "#toc = time.time()\n",
    "#time = tic - toc\n",
    "#print '\\tElapsed: %.2f seconds.' % (toc-tic)\n",
    "\n"
   ]
  },
  {
   "cell_type": "code",
   "execution_count": 8,
   "metadata": {
    "collapsed": false
   },
   "outputs": [
    {
     "name": "stdout",
     "output_type": "stream",
     "text": [
      "\tPrint inferred latent features...\n"
     ]
    },
    {
     "data": {
      "image/png": "[encoded data removed]",
      "text/plain": [
       "<matplotlib.figure.Figure at 0x10d3813d0>"
      ]
     },
     "metadata": {},
     "output_type": "display_data"
    },
    {
     "name": "stdout",
     "output_type": "stream",
     "text": [
      "\n",
      "\n",
      "# -------------------\n",
      "# END\n",
      "# -------------------\n"
     ]
    }
   ],
   "source": [
    "# ---------------------------------------------\n",
    "# 4. PROCESS RESULTS\n",
    "# ---------------------------------------------\n",
    "Kest = B_out.shape[1] # number of inferred latent features\n",
    "D = B_out.shape[0]    # number of dimensions\n",
    "\n",
    "print '\\tPrint inferred latent features...'\n",
    "f, ((ax1, ax2, ax3), (ax4, ax5, ax6), (ax7, ax8, ax9)) = \\\n",
    "        plt.subplots(3, 3, sharex='col', sharey='row')\n",
    "V = [ax1, ax2, ax3, ax4, ax5, ax6, ax7, ax8, ax9]\n",
    "for k in xrange(B_out.shape[1]):\n",
    "    if k>len(V):\n",
    "        break;\n",
    "    # visualize each inferred dimension\n",
    "    B_out[:,k]\n",
    "    pixels = B_out[:,k].reshape((int(np.sqrt(D)),int(np.sqrt(D))))\n",
    "    pixels\n",
    "    # Plot\n",
    "    V[k].imshow(pixels, cmap='gray',interpolation='none')\n",
    "    V[k].set_ylim(0,5)\n",
    "    V[k].set_xlim(0,5)\n",
    "    V[k].set_title('Feature %d' % (k+1))\n",
    "plt.ion()  # interactive mode for plotting (script continues)\n",
    "plt.show() # display figure\n",
    "\n",
    "print('\\n\\n# -------------------')\n",
    "print \"# END\"\n",
    "print('# -------------------')\n"
   ]
  }
 ],
 "metadata": {
  "anaconda-cloud": {},
  "kernelspec": {
   "display_name": "Python [conda root]",
   "language": "python",
   "name": "conda-root-py"
  },
  "language_info": {
   "codemirror_mode": {
    "name": "ipython",
    "version": 2
   },
   "file_extension": ".py",
   "mimetype": "text/x-python",
   "name": "python",
   "nbconvert_exporter": "python",
   "pygments_lexer": "ipython2",
   "version": "2.7.12"
  }
 },
 "nbformat": 4,
 "nbformat_minor": 1
}
